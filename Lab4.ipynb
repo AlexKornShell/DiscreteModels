{
 "cells": [
  {
   "cell_type": "code",
   "execution_count": 1,
   "metadata": {},
   "outputs": [],
   "source": [
    "import random as rd\n",
    "import numpy as np\n",
    "import pandas as pd\n",
    "import matplotlib.pyplot as plt\n",
    "import scipy as sp\n",
    "from scipy import stats\n",
    "import math"
   ]
  },
  {
   "cell_type": "code",
   "execution_count": 2,
   "metadata": {},
   "outputs": [],
   "source": [
    "# Queue of Events\n",
    "class EventsQueue:\n",
    "    def __init__(self):\n",
    "        self.globalTime = 0\n",
    "        self.MEvents = []\n",
    "\n",
    "    def QueueSize(self):\n",
    "        return len(self.MEvents)\n",
    "\n",
    "    def add_event(self, MEvent):\n",
    "        count = len(self.MEvents)\n",
    "        if count == 0 or MEvent.eTime >= self.MEvents[count - 1].eTime:\n",
    "            self.MEvents.append(MEvent)\n",
    "            return 0\n",
    "\n",
    "        for i in range(0, count-1):\n",
    "            if MEvent.eTime >= self.MEvents[i].eTime:\n",
    "                if MEvent.eTime < self.MEvents[i + 1].eTime:\n",
    "                    self.MEvents.insert(i + 1, MEvent)\n",
    "                    return 0\n",
    "\n",
    "    def process_next_event(self):\n",
    "        if len(self.MEvents) == 0:\n",
    "            return 0\n",
    "        self.MEvents[0].Execute()\n",
    "        self.globalTime = self.MEvents[0].eTime\n",
    "        del self.MEvents[0]"
   ]
  },
  {
   "cell_type": "code",
   "execution_count": 27,
   "metadata": {},
   "outputs": [],
   "source": [
    "# Discrete Event System Specification\n",
    "class DEVS:\n",
    "    def __init__(self):\n",
    "        self.EQ = EventsQueue()\n",
    "        self.GlobalTime = 0.0\n",
    "\n",
    "        # simulation attributes\n",
    "        self.customerQueue = []\n",
    "        self.stats = []\n",
    "        self.newId = 0\n",
    "        self.serverIdle = True\n",
    "        self.lastServedTime = 0  # for Idle time\n",
    "\n",
    "    def process_next_event(self):\n",
    "        self.EQ.process_next_event()\n",
    "        self.GlobalTime = self.EQ.globalTime"
   ]
  },
  {
   "cell_type": "code",
   "execution_count": 3,
   "metadata": {},
   "outputs": [],
   "source": [
    "# ---- Customer Statistics ----\n",
    "class CustomerStat:\n",
    "    def __init__(self):\n",
    "        self.id = -1\n",
    "        self.arrivalTime = -1\n",
    "        self.serviceTime = -1\n",
    "        self.interArrivalTime = 0\n",
    "        self.serviceBegins = -1\n",
    "        self.waitingTimeInQueue = 0\n",
    "        self.serviceEnds = -1\n",
    "        self.timeInSystem = -1\n",
    "        self.idleTimeOfServer = 0"
   ]
  },
  {
   "cell_type": "code",
   "execution_count": null,
   "metadata": {},
   "outputs": [],
   "source": [
    "# ---- Arrival Event ----\n",
    "class ArrivalEvent:\n",
    "    def __init__(self, devs, maxAngents, arrivalRateMin, arrivalRateMax, custm, verbose, threshold=None):\n",
    "        self.devs = devs\n",
    "        self.maxAngents = maxAngents\n",
    "        self.arrivalRateMin = arrivalRateMin\n",
    "        self.arrivalRateMax = arrivalRateMax\n",
    "        self.custm = custm\n",
    "        self.eTime = 0.0\n",
    "        self.threshold = threshold\n",
    "        self.verbose = verbose\n",
    "\n",
    "    def Execute(self):\n",
    "        customer = CustomerStat()\n",
    "        customer.id = self.devs.newId\n",
    "        customer.arrivalTime = self.eTime\n",
    "        if len(self.devs.stats) > 0:\n",
    "            customer.interArrivalTime = customer.arrivalTime - self.devs.stats[-1].arrivalTime\n",
    "\n",
    "        if self.verbose:\n",
    "            print(\"Time %d\" % self.eTime, \" Arrival Event of agent {0}\".format(customer.id))\n",
    "            print(self.devs.EQ.MEvents)\n",
    "        if self.devs.newId < self.maxAngents - 1:\n",
    "            next_arrival = ArrivalEvent(self.devs, self.maxAngents, self.arrivalRateMin, self.arrivalRateMax,\n",
    "                                        self.custm, self.verbose, self.threshold)\n",
    "            next_arrival.eTime = self.eTime + rd.randint(self.arrivalRateMin, self.arrivalRateMax)\n",
    "            self.devs.EQ.add_event(next_arrival)\n",
    "\n",
    "        # server is Free\n",
    "        if (self.devs.serverIdle == True):\n",
    "            self.devs.serverIdle = False\n",
    "            if self.verbose:\n",
    "                print(\"server is Busy\")\n",
    "            Service = ServiceEvent(self.devs, self.custm, self.verbose)\n",
    "            serviceTime = self.custm.rvs()  \n",
    "            customer.serviceTime = serviceTime\n",
    "            customer.serviceBegins = self.eTime # current time\n",
    "            Service.eTime = self.eTime + serviceTime            \n",
    "            Service.id = customer.id            \n",
    "            self.devs.EQ.add_event(Service)\n",
    "        # server is Busy\n",
    "        else:\n",
    "            # increase waiting line\n",
    "            self.devs.customerQueue.append(customer.id)\n",
    "            if self.verbose:\n",
    "                print(\"customerQueue = %d\"%len(self.devs.customerQueue))\n",
    "\n",
    "        self.devs.newId = self.devs.newId + 1\n",
    "        self.devs.stats.append(customer)"
   ]
  },
  {
   "cell_type": "code",
   "execution_count": 28,
   "metadata": {},
   "outputs": [],
   "source": [
    "# ---- Service (END) Event ----\n",
    "class ServiceEvent:\n",
    "    def __init__(self, devs, custm, verbose):\n",
    "        self.devs = devs\n",
    "        self.custm = custm\n",
    "        self.eTime = 0.0\n",
    "        self.id = 0\n",
    "        self.verbose = verbose\n",
    "\n",
    "    def Execute(self):\n",
    "        ind = [i for i, val in enumerate(self.devs.stats) if val.id == self.id][0]\n",
    "        self.devs.stats[ind].serviceEnds = self.eTime\n",
    "        self.devs.stats[ind].timeInSystem = self.devs.stats[ind].serviceEnds - self.devs.stats[ind].arrivalTime\n",
    "        self.devs.stats[ind].waitingTimeInQueue = self.devs.stats[ind].serviceBegins - self.devs.stats[ind].arrivalTime # 0 without queue\n",
    "        self.devs.stats[ind].idleTimeOfServer = self.devs.stats[ind].serviceBegins - self.devs.lastServedTime\n",
    "\n",
    "        if self.verbose:\n",
    "            print(\"Time %d\" % self.eTime, \"Service finished\")\n",
    "            \n",
    "        if(len(self.devs.customerQueue)>0):\n",
    "            qid = self.devs.customerQueue.pop(0)\n",
    "            qind = [i for i,val in enumerate(self.devs.stats) if val.id == qid][0]\n",
    "            Service = ServiceEvent(self.devs, self.custm, self.verbose)\n",
    "            serviceTime = custm.rvs()  \n",
    "            Service.eTime = self.eTime + serviceTime\n",
    "            Service.id = qid\n",
    "            self.devs.stats[qind].serviceBegins = self.eTime\n",
    "            self.devs.stats[qind].serviceTime = serviceTime            \n",
    "            self.devs.EQ.add_event(Service)\n",
    "            if self.verbose:\n",
    "                print(\"take new customer from the queue\")            \n",
    "        else:\n",
    "            self.devs.serverIdle = True\n",
    "            if self.verbose:\n",
    "                print(\"server is Idle (do nothing)\")\n",
    "\n",
    "        self.devs.lastServedTime = self.eTime\n",
    "\n",
    "\n",
    "def run_devs(maxAngents, arrivalRateMin, arrivalRateMax, custm, verbose=False):\n",
    "    # run simulation\n",
    "    devs = DEVS()\n",
    "    AE = ArrivalEvent(devs, maxAngents, arrivalRateMin, arrivalRateMax, custm, verbose)\n",
    "    devs.EQ.add_event(AE)\n",
    "\n",
    "    # --- SIMULATION ---\n",
    "    while devs.EQ.QueueSize() > 0:\n",
    "        devs.process_next_event()\n",
    "\n",
    "    return devs"
   ]
  },
  {
   "cell_type": "code",
   "execution_count": 4,
   "metadata": {},
   "outputs": [],
   "source": [
    "def avTimeInQueue(devs):\n",
    "    return sum([x.waitingTimeInQueue for x in devs.stats]) / len(devs.stats)\n",
    "\n",
    "def probToWait(devs):\n",
    "    return len([x for x in devs.stats if x.waitingTimeInQueue > 0]) / len(devs.stats)\n",
    "\n",
    "def probIdle(devs):\n",
    "    return sum([x.idleTimeOfServer for x in devs.stats]) / devs.GlobalTime\n",
    "\n",
    "def avServiceTime(devs):\n",
    "    return sum([x.serviceTime for x in devs.stats]) / len(devs.stats)\n",
    "\n",
    "def avTimeBetwArr(devs):\n",
    "    return sum([x.interArrivalTime for x in devs.stats]) / (len(devs.stats) - 1)\n",
    "\n",
    "def avTimeWhoWait(devs):\n",
    "    numOfCustWhoWait = len([x for x in devs.stats if x.waitingTimeInQueue > 0])\n",
    "    return sum([x.waitingTimeInQueue for x in devs.stats]) / numOfCustWhoWait if numOfCustWhoWait else 0\n",
    "\n",
    "def avTimeInTheSystem(devs):\n",
    "    return sum([x.timeInSystem for x in devs.stats]) / len(devs.stats)"
   ]
  },
  {
   "cell_type": "code",
   "execution_count": 5,
   "metadata": {},
   "outputs": [],
   "source": [
    "# Доверительный интервал\n",
    "def mean_confidence_interval(data, confidence=0.95):\n",
    "    a = 1.0*np.array(data)\n",
    "    n = len(a)\n",
    "    m, se = np.mean(a), np.std(a,ddof=1)/np.sqrt(n)\n",
    "    h = se * sp.stats.t._ppf((1+confidence)/2., n-1)\n",
    "    return m, h"
   ]
  },
  {
   "cell_type": "code",
   "execution_count": 6,
   "metadata": {},
   "outputs": [],
   "source": [
    "# Параметры системы\n",
    "maxAngents = 100\n",
    "arrivalRateMin = 1\n",
    "arrivalRateMax = 4\n",
    "service_xk = np.arange(6) + 5\n",
    "service_pk = (0.1, 0.2, 0.3, 0.25, 0.1, 0.05)\n",
    "custm = stats.rv_discrete(name='custm', values=(service_xk, service_pk))"
   ]
  },
  {
   "cell_type": "code",
   "execution_count": 24,
   "metadata": {},
   "outputs": [
    {
     "name": "stdout",
     "output_type": "stream",
     "text": [
      "replications = 5537\n",
      "h = 4.991751377979128\n",
      "m = 240.00899999999996\n"
     ]
    }
   ],
   "source": [
    "statistics = []\n",
    "threshold = 0.3\n",
    "\n",
    "for i in range(20):\n",
    "    devs = run_devs(maxAngents, arrivalRateMin, arrivalRateMax, custm)\n",
    "    statistics.append(avTimeInTheSystem(devs))\n",
    "\n",
    "m, h = mean_confidence_interval(statistics)\n",
    "replications = (h * np.sqrt(len(statistics)) / threshold) ** 2\n",
    "\n",
    "print(\"replications = \" +str(int(replications)))\n",
    "print(\"h = \" + str(h))\n",
    "print(\"m = \" + str(m))"
   ]
  },
  {
   "cell_type": "code",
   "execution_count": 25,
   "metadata": {},
   "outputs": [
    {
     "name": "stdout",
     "output_type": "stream",
     "text": [
      "h = 0.2605441299558768\n",
      "m = 239.93391477067533\n"
     ]
    }
   ],
   "source": [
    "for i in range(math.ceil(replications) - len(statistics)):\n",
    "    devs = run_devs(maxAngents, arrivalRateMin, arrivalRateMax, custm)\n",
    "    statistics.append(avTimeInTheSystem(devs))\n",
    "\n",
    "m, h = mean_confidence_interval(statistics)\n",
    "print(\"h = \" + str(h))\n",
    "print(\"m = \" + str(m))\n",
    "if h > threshold:\n",
    "    replications = (h * np.sqrt(len(statistics)) / threshold) ** 2\n",
    "    print(\"replications = \" +str(int(replications)))"
   ]
  },
  {
   "cell_type": "code",
   "execution_count": 26,
   "metadata": {},
   "outputs": [
    {
     "name": "stdout",
     "output_type": "stream",
     "text": [
      "replications = 5020\n",
      "h = 4.753178124093773\n",
      "m = 237.593\n",
      "h = 0.2742039188271308\n",
      "m = 239.93979087831107\n"
     ]
    }
   ],
   "source": [
    "# Автоматизировал поиск параметра с нужной точностью. Выполняется в цикле до достижения порога.\n",
    "statistics = []\n",
    "threshold = 0.3\n",
    "\n",
    "for i in range(20):\n",
    "    devs = run_devs(maxAngents, arrivalRateMin, arrivalRateMax, custm)\n",
    "    statistics.append(avTimeInTheSystem(devs))\n",
    "\n",
    "m, h = mean_confidence_interval(statistics)\n",
    "replications = (h * np.sqrt(len(statistics)) / threshold) ** 2\n",
    "\n",
    "print(\"replications = \" +str(int(replications)))\n",
    "print(\"h = \" + str(h))\n",
    "print(\"m = \" + str(m))\n",
    "\n",
    "while h > threshold:\n",
    "    for i in range(math.ceil(replications) - len(statistics)):\n",
    "        devs = run_devs(maxAngents, arrivalRateMin, arrivalRateMax, custm)\n",
    "        statistics.append(avTimeInTheSystem(devs))\n",
    "\n",
    "    m, h = mean_confidence_interval(statistics)\n",
    "    print(\"h = \" + str(h))\n",
    "    print(\"m = \" + str(m))\n",
    "    if h > threshold:\n",
    "        replications = (h * np.sqrt(len(statistics)) / threshold) ** 2\n",
    "        print(\"replications = \" +str(int(replications)))"
   ]
  }
 ],
 "metadata": {
  "kernelspec": {
   "display_name": "Python 3",
   "language": "python",
   "name": "python3"
  },
  "language_info": {
   "codemirror_mode": {
    "name": "ipython",
    "version": 3
   },
   "file_extension": ".py",
   "mimetype": "text/x-python",
   "name": "python",
   "nbconvert_exporter": "python",
   "pygments_lexer": "ipython3",
   "version": "3.8.5"
  }
 },
 "nbformat": 4,
 "nbformat_minor": 4
}
